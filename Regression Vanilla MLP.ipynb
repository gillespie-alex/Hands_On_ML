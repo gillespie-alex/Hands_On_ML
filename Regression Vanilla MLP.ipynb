{
 "cells": [
  {
   "cell_type": "markdown",
   "id": "a8babffb",
   "metadata": {},
   "source": [
    "# Import libraries"
   ]
  },
  {
   "cell_type": "code",
   "execution_count": 1,
   "id": "6db4a60e",
   "metadata": {},
   "outputs": [],
   "source": [
    "from sklearn.datasets import fetch_california_housing\n",
    "from sklearn.model_selection import train_test_split\n",
    "from sklearn.preprocessing import StandardScaler"
   ]
  },
  {
   "cell_type": "code",
   "execution_count": 6,
   "id": "50819ded",
   "metadata": {},
   "outputs": [
    {
     "name": "stderr",
     "output_type": "stream",
     "text": [
      "2022-07-03 17:06:12.716828: W tensorflow/stream_executor/platform/default/dso_loader.cc:64] Could not load dynamic library 'libcudart.so.11.0'; dlerror: libcudart.so.11.0: cannot open shared object file: No such file or directory\n",
      "2022-07-03 17:06:12.716843: I tensorflow/stream_executor/cuda/cudart_stub.cc:29] Ignore above cudart dlerror if you do not have a GPU set up on your machine.\n"
     ]
    }
   ],
   "source": [
    "import tensorflow as tf\n",
    "from tensorflow import keras"
   ]
  },
  {
   "cell_type": "markdown",
   "id": "f15b08f3",
   "metadata": {},
   "source": [
    "# Pre-processing"
   ]
  },
  {
   "cell_type": "code",
   "execution_count": 2,
   "id": "64587d1c",
   "metadata": {},
   "outputs": [],
   "source": [
    "housing = fetch_california_housing()\n",
    "\n",
    "X_train_full, X_test, y_train_full, y_test = train_test_split(housing.data, housing.target)\n",
    "X_train, X_valid, y_train, y_valid = train_test_split(X_train_full, y_train_full)"
   ]
  },
  {
   "cell_type": "code",
   "execution_count": 4,
   "id": "187beffa",
   "metadata": {},
   "outputs": [],
   "source": [
    "scaler = StandardScaler()\n",
    "X_train = scaler.fit_transform(X_train)\n",
    "X_valid = scaler.transform(X_valid)"
   ]
  },
  {
   "cell_type": "markdown",
   "id": "f5b3f57e",
   "metadata": {},
   "source": [
    "For a regression MLP the output layer only has a single neuron and does not use an activation function, and the loss function is MSE"
   ]
  },
  {
   "cell_type": "markdown",
   "id": "08db76c3",
   "metadata": {},
   "source": [
    "# Creating model using Sequential API"
   ]
  },
  {
   "cell_type": "code",
   "execution_count": 7,
   "id": "3a4b595d",
   "metadata": {
    "collapsed": true
   },
   "outputs": [
    {
     "name": "stderr",
     "output_type": "stream",
     "text": [
      "2022-07-03 17:06:27.775130: I tensorflow/stream_executor/cuda/cuda_gpu_executor.cc:975] successful NUMA node read from SysFS had negative value (-1), but there must be at least one NUMA node, so returning NUMA node zero\n",
      "2022-07-03 17:06:27.775499: W tensorflow/stream_executor/platform/default/dso_loader.cc:64] Could not load dynamic library 'libcudart.so.11.0'; dlerror: libcudart.so.11.0: cannot open shared object file: No such file or directory\n",
      "2022-07-03 17:06:27.775544: W tensorflow/stream_executor/platform/default/dso_loader.cc:64] Could not load dynamic library 'libcublas.so.11'; dlerror: libcublas.so.11: cannot open shared object file: No such file or directory\n",
      "2022-07-03 17:06:27.775582: W tensorflow/stream_executor/platform/default/dso_loader.cc:64] Could not load dynamic library 'libcublasLt.so.11'; dlerror: libcublasLt.so.11: cannot open shared object file: No such file or directory\n",
      "2022-07-03 17:06:27.775620: W tensorflow/stream_executor/platform/default/dso_loader.cc:64] Could not load dynamic library 'libcufft.so.10'; dlerror: libcufft.so.10: cannot open shared object file: No such file or directory\n",
      "2022-07-03 17:06:27.775655: W tensorflow/stream_executor/platform/default/dso_loader.cc:64] Could not load dynamic library 'libcurand.so.10'; dlerror: libcurand.so.10: cannot open shared object file: No such file or directory\n",
      "2022-07-03 17:06:27.775690: W tensorflow/stream_executor/platform/default/dso_loader.cc:64] Could not load dynamic library 'libcusolver.so.11'; dlerror: libcusolver.so.11: cannot open shared object file: No such file or directory\n",
      "2022-07-03 17:06:27.775726: W tensorflow/stream_executor/platform/default/dso_loader.cc:64] Could not load dynamic library 'libcusparse.so.11'; dlerror: libcusparse.so.11: cannot open shared object file: No such file or directory\n",
      "2022-07-03 17:06:27.775761: W tensorflow/stream_executor/platform/default/dso_loader.cc:64] Could not load dynamic library 'libcudnn.so.8'; dlerror: libcudnn.so.8: cannot open shared object file: No such file or directory\n",
      "2022-07-03 17:06:27.775767: W tensorflow/core/common_runtime/gpu/gpu_device.cc:1850] Cannot dlopen some GPU libraries. Please make sure the missing libraries mentioned above are installed properly if you would like to use GPU. Follow the guide at https://www.tensorflow.org/install/gpu for how to download and setup the required libraries for your platform.\n",
      "Skipping registering GPU devices...\n",
      "2022-07-03 17:06:27.776038: I tensorflow/core/platform/cpu_feature_guard.cc:193] This TensorFlow binary is optimized with oneAPI Deep Neural Network Library (oneDNN) to use the following CPU instructions in performance-critical operations:  AVX2 FMA\n",
      "To enable them in other operations, rebuild TensorFlow with the appropriate compiler flags.\n"
     ]
    }
   ],
   "source": [
    "model = keras.models.Sequential([\n",
    "    keras.layers.Dense(30, activation = \"relu\", input_shape = X_train.shape[1:]),\n",
    "    keras.layers.Dense(1)\n",
    "])"
   ]
  },
  {
   "cell_type": "code",
   "execution_count": 8,
   "id": "74aac1b9",
   "metadata": {
    "scrolled": true
   },
   "outputs": [
    {
     "name": "stdout",
     "output_type": "stream",
     "text": [
      "Epoch 1/20\n",
      "363/363 [==============================] - 0s 640us/step - loss: 0.9021 - val_loss: 0.7435\n",
      "Epoch 2/20\n",
      "363/363 [==============================] - 0s 465us/step - loss: 0.8933 - val_loss: 0.6160\n",
      "Epoch 3/20\n",
      "363/363 [==============================] - 0s 484us/step - loss: 0.4713 - val_loss: 0.4502\n",
      "Epoch 4/20\n",
      "363/363 [==============================] - 0s 459us/step - loss: 0.4361 - val_loss: 0.4322\n",
      "Epoch 5/20\n",
      "363/363 [==============================] - 0s 515us/step - loss: 0.4134 - val_loss: 0.4169\n",
      "Epoch 6/20\n",
      "363/363 [==============================] - 0s 478us/step - loss: 0.4186 - val_loss: 0.4167\n",
      "Epoch 7/20\n",
      "363/363 [==============================] - 0s 501us/step - loss: 0.3958 - val_loss: 0.4073\n",
      "Epoch 8/20\n",
      "363/363 [==============================] - 0s 473us/step - loss: 0.3868 - val_loss: 0.3991\n",
      "Epoch 9/20\n",
      "363/363 [==============================] - 0s 503us/step - loss: 0.3821 - val_loss: 0.3991\n",
      "Epoch 10/20\n",
      "363/363 [==============================] - 0s 505us/step - loss: 0.3740 - val_loss: 0.3886\n",
      "Epoch 11/20\n",
      "363/363 [==============================] - 0s 484us/step - loss: 0.3703 - val_loss: 0.3835\n",
      "Epoch 12/20\n",
      "363/363 [==============================] - 0s 496us/step - loss: 0.3677 - val_loss: 0.3775\n",
      "Epoch 13/20\n",
      "363/363 [==============================] - 0s 506us/step - loss: 0.3633 - val_loss: 0.3774\n",
      "Epoch 14/20\n",
      "363/363 [==============================] - 0s 504us/step - loss: 0.3593 - val_loss: 0.3735\n",
      "Epoch 15/20\n",
      "363/363 [==============================] - 0s 502us/step - loss: 0.3572 - val_loss: 0.3708\n",
      "Epoch 16/20\n",
      "363/363 [==============================] - 0s 482us/step - loss: 0.3620 - val_loss: 0.3704\n",
      "Epoch 17/20\n",
      "363/363 [==============================] - 0s 484us/step - loss: 0.3599 - val_loss: 0.3659\n",
      "Epoch 18/20\n",
      "363/363 [==============================] - 0s 470us/step - loss: 0.3502 - val_loss: 0.3708\n",
      "Epoch 19/20\n",
      "363/363 [==============================] - 0s 486us/step - loss: 0.3482 - val_loss: 0.3668\n",
      "Epoch 20/20\n",
      "363/363 [==============================] - 0s 549us/step - loss: 0.3704 - val_loss: 0.3616\n",
      "162/162 [==============================] - 0s 392us/step - loss: 32939.2695\n",
      "1/1 [==============================] - 0s 39ms/step\n"
     ]
    }
   ],
   "source": [
    "model.compile(loss=\"mean_squared_error\",optimizer=\"sgd\")\n",
    "history = model.fit(X_train, y_train, epochs = 20, validation_data = (X_valid, y_valid))\n",
    "mse_test = model.evaluate(X_test, y_test)\n",
    "X_new = X_test[:3]\n",
    "y_pred = model.predict(X_new)"
   ]
  }
 ],
 "metadata": {
  "kernelspec": {
   "display_name": "Python 3 (ipykernel)",
   "language": "python",
   "name": "python3"
  },
  "language_info": {
   "codemirror_mode": {
    "name": "ipython",
    "version": 3
   },
   "file_extension": ".py",
   "mimetype": "text/x-python",
   "name": "python",
   "nbconvert_exporter": "python",
   "pygments_lexer": "ipython3",
   "version": "3.9.7"
  }
 },
 "nbformat": 4,
 "nbformat_minor": 5
}
