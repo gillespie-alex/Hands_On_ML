{
 "cells": [
  {
   "cell_type": "markdown",
   "id": "50ad5aeb",
   "metadata": {},
   "source": [
    "# Imports"
   ]
  },
  {
   "cell_type": "code",
   "execution_count": 1,
   "id": "432cd371",
   "metadata": {},
   "outputs": [
    {
     "name": "stderr",
     "output_type": "stream",
     "text": [
      "2022-07-20 12:16:51.852872: W tensorflow/stream_executor/platform/default/dso_loader.cc:64] Could not load dynamic library 'libcudart.so.11.0'; dlerror: libcudart.so.11.0: cannot open shared object file: No such file or directory\n",
      "2022-07-20 12:16:51.852891: I tensorflow/stream_executor/cuda/cudart_stub.cc:29] Ignore above cudart dlerror if you do not have a GPU set up on your machine.\n"
     ]
    }
   ],
   "source": [
    "import time\n",
    "import numpy as np\n",
    "import matplotlib.pylab as plt\n",
    "\n",
    "import tensorflow as tf\n",
    "import tensorflow_hub as hub\n",
    "import tensorflow_datasets as tfds\n",
    "tfds.disable_progress_bar()\n",
    "\n",
    "from tensorflow.keras import layers"
   ]
  },
  {
   "cell_type": "markdown",
   "id": "9a6eb3d6",
   "metadata": {},
   "source": [
    "### Locate the File"
   ]
  },
  {
   "cell_type": "code",
   "execution_count": 2,
   "id": "6ca7c06f",
   "metadata": {},
   "outputs": [
    {
     "name": "stdout",
     "output_type": "stream",
     "text": [
      "1658338888.h5\r\n"
     ]
    }
   ],
   "source": [
    "# The stored model is in the current directory\n",
    "!ls | grep .h5"
   ]
  },
  {
   "cell_type": "markdown",
   "id": "8210430b",
   "metadata": {},
   "source": [
    "Find the file and set it equal to our 'model_path' variable"
   ]
  },
  {
   "cell_type": "code",
   "execution_count": 3,
   "id": "ce4d5267",
   "metadata": {},
   "outputs": [
    {
     "name": "stdout",
     "output_type": "stream",
     "text": [
      "./1658338888.h5\n"
     ]
    }
   ],
   "source": [
    "import glob\n",
    "\n",
    "model_dir = glob.glob('./*.h5')\n",
    "model_path = model_dir[0]\n",
    "print(model_path)"
   ]
  },
  {
   "cell_type": "markdown",
   "id": "e46dfb7e",
   "metadata": {},
   "source": [
    "# Loading Keras Model from Saved Memory"
   ]
  },
  {
   "cell_type": "markdown",
   "id": "aab99767",
   "metadata": {},
   "source": [
    "To load the model from saved memory all that is needed is the file path of the model and the `custom_objects` parameter. This parameter will tell keras how to load the hub.Keras.Layer from the feature_extractor we used for transfer learning."
   ]
  },
  {
   "cell_type": "code",
   "execution_count": 4,
   "id": "551f1f0a",
   "metadata": {},
   "outputs": [
    {
     "name": "stderr",
     "output_type": "stream",
     "text": [
      "2022-07-20 12:19:25.143152: I tensorflow/stream_executor/cuda/cuda_gpu_executor.cc:975] successful NUMA node read from SysFS had negative value (-1), but there must be at least one NUMA node, so returning NUMA node zero\n",
      "2022-07-20 12:19:25.143439: W tensorflow/stream_executor/platform/default/dso_loader.cc:64] Could not load dynamic library 'libcudart.so.11.0'; dlerror: libcudart.so.11.0: cannot open shared object file: No such file or directory\n",
      "2022-07-20 12:19:25.143471: W tensorflow/stream_executor/platform/default/dso_loader.cc:64] Could not load dynamic library 'libcublas.so.11'; dlerror: libcublas.so.11: cannot open shared object file: No such file or directory\n",
      "2022-07-20 12:19:25.143507: W tensorflow/stream_executor/platform/default/dso_loader.cc:64] Could not load dynamic library 'libcublasLt.so.11'; dlerror: libcublasLt.so.11: cannot open shared object file: No such file or directory\n",
      "2022-07-20 12:19:25.143542: W tensorflow/stream_executor/platform/default/dso_loader.cc:64] Could not load dynamic library 'libcufft.so.10'; dlerror: libcufft.so.10: cannot open shared object file: No such file or directory\n",
      "2022-07-20 12:19:25.143575: W tensorflow/stream_executor/platform/default/dso_loader.cc:64] Could not load dynamic library 'libcurand.so.10'; dlerror: libcurand.so.10: cannot open shared object file: No such file or directory\n",
      "2022-07-20 12:19:25.143609: W tensorflow/stream_executor/platform/default/dso_loader.cc:64] Could not load dynamic library 'libcusolver.so.11'; dlerror: libcusolver.so.11: cannot open shared object file: No such file or directory\n",
      "2022-07-20 12:19:25.143640: W tensorflow/stream_executor/platform/default/dso_loader.cc:64] Could not load dynamic library 'libcusparse.so.11'; dlerror: libcusparse.so.11: cannot open shared object file: No such file or directory\n",
      "2022-07-20 12:19:25.143671: W tensorflow/stream_executor/platform/default/dso_loader.cc:64] Could not load dynamic library 'libcudnn.so.8'; dlerror: libcudnn.so.8: cannot open shared object file: No such file or directory\n",
      "2022-07-20 12:19:25.143677: W tensorflow/core/common_runtime/gpu/gpu_device.cc:1850] Cannot dlopen some GPU libraries. Please make sure the missing libraries mentioned above are installed properly if you would like to use GPU. Follow the guide at https://www.tensorflow.org/install/gpu for how to download and setup the required libraries for your platform.\n",
      "Skipping registering GPU devices...\n",
      "2022-07-20 12:19:25.143914: I tensorflow/core/platform/cpu_feature_guard.cc:193] This TensorFlow binary is optimized with oneAPI Deep Neural Network Library (oneDNN) to use the following CPU instructions in performance-critical operations:  AVX2 FMA\n",
      "To enable them in other operations, rebuild TensorFlow with the appropriate compiler flags.\n"
     ]
    },
    {
     "name": "stdout",
     "output_type": "stream",
     "text": [
      "Model: \"sequential\"\n",
      "_________________________________________________________________\n",
      " Layer (type)                Output Shape              Param #   \n",
      "=================================================================\n",
      " keras_layer (KerasLayer)    (None, 1280)              2257984   \n",
      "                                                                 \n",
      " dense (Dense)               (None, 5)                 6405      \n",
      "                                                                 \n",
      "=================================================================\n",
      "Total params: 2,264,389\n",
      "Trainable params: 6,405\n",
      "Non-trainable params: 2,257,984\n",
      "_________________________________________________________________\n"
     ]
    }
   ],
   "source": [
    "reloaded = tf.keras.models.load_model(\n",
    "    model_path,\n",
    "    custom_objects={'KerasLayer': hub.KerasLayer})\n",
    "reloaded.summary()"
   ]
  },
  {
   "cell_type": "markdown",
   "id": "056cf430",
   "metadata": {},
   "source": [
    "The above model can be re-trained and by calling the `.fit` method just like any other model training and make predictions in the same manner as normal"
   ]
  },
  {
   "cell_type": "markdown",
   "id": "baa8c081",
   "metadata": {},
   "source": [
    "### Loading a TensorFlow SavedModel"
   ]
  },
  {
   "cell_type": "markdown",
   "id": "e95faa57",
   "metadata": {},
   "source": [
    "Another way to used saved models is using Tf's SavedModel format. First find the directory of the SavedModel which will just be a long number representing time it was saved, but I'm not gonna go to far into this as there's currently a lot of bugs with Keras' API for this and takes time to troubleshoot"
   ]
  },
  {
   "cell_type": "markdown",
   "id": "3e8b1978",
   "metadata": {},
   "source": [
    "#### Making the Loaded SavedModel as a Keras Model"
   ]
  },
  {
   "cell_type": "markdown",
   "id": "fc5f3297",
   "metadata": {},
   "source": [
    "The loaded model is not a Keras object when it's loaded, so no re-training could be done. To be able to get back the full Keras model from the Tensorflow SavedModel format we must use the `tf.keras.models.load_model` function. This fucntion works the same as before, except now we are passing the path to the folder containing the SavedModel"
   ]
  }
 ],
 "metadata": {
  "kernelspec": {
   "display_name": "Python 3 (ipykernel)",
   "language": "python",
   "name": "python3"
  },
  "language_info": {
   "codemirror_mode": {
    "name": "ipython",
    "version": 3
   },
   "file_extension": ".py",
   "mimetype": "text/x-python",
   "name": "python",
   "nbconvert_exporter": "python",
   "pygments_lexer": "ipython3",
   "version": "3.9.7"
  }
 },
 "nbformat": 4,
 "nbformat_minor": 5
}
