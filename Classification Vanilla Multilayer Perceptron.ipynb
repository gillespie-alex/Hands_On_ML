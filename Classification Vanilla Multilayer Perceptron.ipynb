{
 "cells": [
  {
   "cell_type": "markdown",
   "id": "0cba87ec",
   "metadata": {},
   "source": [
    "This notebook is directly from Geron's \"Hands-On ML with Scikit-Learn,...\""
   ]
  },
  {
   "cell_type": "markdown",
   "id": "17a044dc",
   "metadata": {},
   "source": [
    "# Fashion MNIST "
   ]
  },
  {
   "cell_type": "code",
   "execution_count": 1,
   "id": "da010462",
   "metadata": {},
   "outputs": [
    {
     "name": "stderr",
     "output_type": "stream",
     "text": [
      "2022-07-03 16:15:29.147728: W tensorflow/stream_executor/platform/default/dso_loader.cc:64] Could not load dynamic library 'libcudart.so.11.0'; dlerror: libcudart.so.11.0: cannot open shared object file: No such file or directory\n",
      "2022-07-03 16:15:29.147748: I tensorflow/stream_executor/cuda/cudart_stub.cc:29] Ignore above cudart dlerror if you do not have a GPU set up on your machine.\n"
     ]
    },
    {
     "name": "stdout",
     "output_type": "stream",
     "text": [
      "2.9.1\n",
      "2.9.0\n"
     ]
    }
   ],
   "source": [
    "import tensorflow as tf\n",
    "from tensorflow import keras\n",
    "print(tf.__version__)\n",
    "print(keras.__version__)"
   ]
  },
  {
   "cell_type": "markdown",
   "id": "0e94c260",
   "metadata": {},
   "source": [
    "I had issues setting up my system to run on my gpu so all operations done on cpu"
   ]
  },
  {
   "cell_type": "code",
   "execution_count": 2,
   "id": "40d775ac",
   "metadata": {},
   "outputs": [],
   "source": [
    "fashion_mnist = keras.datasets.fashion_mnist\n",
    "(X_train_full, y_train_full), (X_test, y_test) = fashion_mnist.load_data()"
   ]
  },
  {
   "cell_type": "code",
   "execution_count": 3,
   "id": "d047fa06",
   "metadata": {},
   "outputs": [
    {
     "data": {
      "text/plain": [
       "(60000, 28, 28)"
      ]
     },
     "execution_count": 3,
     "metadata": {},
     "output_type": "execute_result"
    }
   ],
   "source": [
    "X_train_full.shape"
   ]
  },
  {
   "cell_type": "code",
   "execution_count": 4,
   "id": "f3ba1daf",
   "metadata": {},
   "outputs": [
    {
     "data": {
      "text/plain": [
       "dtype('uint8')"
      ]
     },
     "execution_count": 4,
     "metadata": {},
     "output_type": "execute_result"
    }
   ],
   "source": [
    "X_train_full.dtype"
   ]
  },
  {
   "cell_type": "code",
   "execution_count": 5,
   "id": "f99ebc12",
   "metadata": {},
   "outputs": [],
   "source": [
    "X_valid, X_train = X_train_full[:5000] / 255.0, X_train_full[5000:] / 255.0\n",
    "y_valid, y_train = y_train_full[:5000], y_train_full[5000:]\n",
    "X_test = X_test / 255.0"
   ]
  },
  {
   "cell_type": "code",
   "execution_count": 6,
   "id": "9b24374c",
   "metadata": {},
   "outputs": [],
   "source": [
    "class_names = [\"T-shirt/top\", \"Trouser\", \"Pullover\", \"Dress\", \"Coat\", \"Sandal\", \"Shirt\", \"Sneaker\", \"Bag\",\\\n",
    "              \"Ankle Boot\"]"
   ]
  },
  {
   "cell_type": "markdown",
   "id": "60289b0e",
   "metadata": {},
   "source": [
    "## Creating a model using the Sequential API"
   ]
  },
  {
   "cell_type": "code",
   "execution_count": null,
   "id": "9ebe0299",
   "metadata": {},
   "outputs": [],
   "source": [
    "# A more procedural approach to defining the model\n",
    "model = keras.models.Sequential()\n",
    "model.add(keras.layers.Flatten(input_shape=[28,28]))\n",
    "model.add(keras.layers.Dense(300, activation = \"relu\"))\n",
    "model.add(keras.layers.Dense(100, activation = \"relu\"))\n",
    "model.add(keras.layers.Dense(10, activation = \"softmax\"))"
   ]
  },
  {
   "cell_type": "code",
   "execution_count": 7,
   "id": "4ed0659f",
   "metadata": {},
   "outputs": [
    {
     "name": "stderr",
     "output_type": "stream",
     "text": [
      "2022-07-03 16:15:36.587135: I tensorflow/stream_executor/cuda/cuda_gpu_executor.cc:975] successful NUMA node read from SysFS had negative value (-1), but there must be at least one NUMA node, so returning NUMA node zero\n",
      "2022-07-03 16:15:36.587544: W tensorflow/stream_executor/platform/default/dso_loader.cc:64] Could not load dynamic library 'libcudart.so.11.0'; dlerror: libcudart.so.11.0: cannot open shared object file: No such file or directory\n",
      "2022-07-03 16:15:36.587624: W tensorflow/stream_executor/platform/default/dso_loader.cc:64] Could not load dynamic library 'libcublas.so.11'; dlerror: libcublas.so.11: cannot open shared object file: No such file or directory\n",
      "2022-07-03 16:15:36.587677: W tensorflow/stream_executor/platform/default/dso_loader.cc:64] Could not load dynamic library 'libcublasLt.so.11'; dlerror: libcublasLt.so.11: cannot open shared object file: No such file or directory\n",
      "2022-07-03 16:15:36.587728: W tensorflow/stream_executor/platform/default/dso_loader.cc:64] Could not load dynamic library 'libcufft.so.10'; dlerror: libcufft.so.10: cannot open shared object file: No such file or directory\n",
      "2022-07-03 16:15:36.587778: W tensorflow/stream_executor/platform/default/dso_loader.cc:64] Could not load dynamic library 'libcurand.so.10'; dlerror: libcurand.so.10: cannot open shared object file: No such file or directory\n",
      "2022-07-03 16:15:36.587827: W tensorflow/stream_executor/platform/default/dso_loader.cc:64] Could not load dynamic library 'libcusolver.so.11'; dlerror: libcusolver.so.11: cannot open shared object file: No such file or directory\n",
      "2022-07-03 16:15:36.587875: W tensorflow/stream_executor/platform/default/dso_loader.cc:64] Could not load dynamic library 'libcusparse.so.11'; dlerror: libcusparse.so.11: cannot open shared object file: No such file or directory\n",
      "2022-07-03 16:15:36.587924: W tensorflow/stream_executor/platform/default/dso_loader.cc:64] Could not load dynamic library 'libcudnn.so.8'; dlerror: libcudnn.so.8: cannot open shared object file: No such file or directory\n",
      "2022-07-03 16:15:36.587932: W tensorflow/core/common_runtime/gpu/gpu_device.cc:1850] Cannot dlopen some GPU libraries. Please make sure the missing libraries mentioned above are installed properly if you would like to use GPU. Follow the guide at https://www.tensorflow.org/install/gpu for how to download and setup the required libraries for your platform.\n",
      "Skipping registering GPU devices...\n",
      "2022-07-03 16:15:36.588221: I tensorflow/core/platform/cpu_feature_guard.cc:193] This TensorFlow binary is optimized with oneAPI Deep Neural Network Library (oneDNN) to use the following CPU instructions in performance-critical operations:  AVX2 FMA\n",
      "To enable them in other operations, rebuild TensorFlow with the appropriate compiler flags.\n"
     ]
    }
   ],
   "source": [
    "# or the this method which is more \"functional\" by passing a list of layers \n",
    "model = keras.models.Sequential([keras.layers.Flatten(input_shape=[28,28]),\n",
    "                                 keras.layers.Dense(300, activation = \"relu\"),\n",
    "                                 keras.layers.Dense(100, activation = \"relu\"),\n",
    "                                 keras.layers.Dense(10, activation = \"softmax\")\n",
    "                                ])"
   ]
  },
  {
   "cell_type": "code",
   "execution_count": 8,
   "id": "6771a637",
   "metadata": {},
   "outputs": [
    {
     "name": "stdout",
     "output_type": "stream",
     "text": [
      "Model: \"sequential\"\n",
      "_________________________________________________________________\n",
      " Layer (type)                Output Shape              Param #   \n",
      "=================================================================\n",
      " flatten (Flatten)           (None, 784)               0         \n",
      "                                                                 \n",
      " dense (Dense)               (None, 300)               235500    \n",
      "                                                                 \n",
      " dense_1 (Dense)             (None, 100)               30100     \n",
      "                                                                 \n",
      " dense_2 (Dense)             (None, 10)                1010      \n",
      "                                                                 \n",
      "=================================================================\n",
      "Total params: 266,610\n",
      "Trainable params: 266,610\n",
      "Non-trainable params: 0\n",
      "_________________________________________________________________\n"
     ]
    }
   ],
   "source": [
    "model.summary()"
   ]
  },
  {
   "cell_type": "code",
   "execution_count": 9,
   "id": "918f98a2",
   "metadata": {},
   "outputs": [
    {
     "data": {
      "text/plain": [
       "[<keras.layers.reshaping.flatten.Flatten at 0x7f32e4f406a0>,\n",
       " <keras.layers.core.dense.Dense at 0x7f32ed419f40>,\n",
       " <keras.layers.core.dense.Dense at 0x7f32ed419e80>,\n",
       " <keras.layers.core.dense.Dense at 0x7f32e4fa6fa0>]"
      ]
     },
     "execution_count": 9,
     "metadata": {},
     "output_type": "execute_result"
    }
   ],
   "source": [
    "# to get model's list of layers\n",
    "model.layers"
   ]
  },
  {
   "cell_type": "code",
   "execution_count": 10,
   "id": "e5b6d3f4",
   "metadata": {},
   "outputs": [
    {
     "data": {
      "text/plain": [
       "'dense'"
      ]
     },
     "execution_count": 10,
     "metadata": {},
     "output_type": "execute_result"
    }
   ],
   "source": [
    "hidden1 = model.layers[1]\n",
    "hidden1.name"
   ]
  },
  {
   "cell_type": "code",
   "execution_count": 11,
   "id": "2a92b536",
   "metadata": {},
   "outputs": [
    {
     "data": {
      "text/plain": [
       "True"
      ]
     },
     "execution_count": 11,
     "metadata": {},
     "output_type": "execute_result"
    }
   ],
   "source": [
    "model.get_layer('dense') is hidden1"
   ]
  },
  {
   "cell_type": "code",
   "execution_count": 12,
   "id": "dfd04b24",
   "metadata": {
    "collapsed": true
   },
   "outputs": [
    {
     "name": "stdout",
     "output_type": "stream",
     "text": [
      " weights: [[ 0.0027069  -0.04315769  0.02698044 ... -0.00353927 -0.06910874\n",
      "   0.04912257]\n",
      " [-0.02685474  0.04204109  0.06287596 ... -0.03462392  0.05980404\n",
      "   0.05131389]\n",
      " [ 0.01525588 -0.06778173  0.01899441 ... -0.05171418 -0.07392894\n",
      "  -0.06758393]\n",
      " ...\n",
      " [ 0.02349532  0.02579024 -0.07270028 ... -0.05877275  0.07341166\n",
      "   0.03133643]\n",
      " [-0.06236555 -0.04939331 -0.00979082 ...  0.00248311  0.02587985\n",
      "  -0.0472424 ]\n",
      " [-0.05266263 -0.01083685 -0.0672609  ... -0.03892735  0.02996067\n",
      "   0.03984307]]\n",
      " and biases: [0. 0. 0. 0. 0. 0. 0. 0. 0. 0. 0. 0. 0. 0. 0. 0. 0. 0. 0. 0. 0. 0. 0. 0.\n",
      " 0. 0. 0. 0. 0. 0. 0. 0. 0. 0. 0. 0. 0. 0. 0. 0. 0. 0. 0. 0. 0. 0. 0. 0.\n",
      " 0. 0. 0. 0. 0. 0. 0. 0. 0. 0. 0. 0. 0. 0. 0. 0. 0. 0. 0. 0. 0. 0. 0. 0.\n",
      " 0. 0. 0. 0. 0. 0. 0. 0. 0. 0. 0. 0. 0. 0. 0. 0. 0. 0. 0. 0. 0. 0. 0. 0.\n",
      " 0. 0. 0. 0. 0. 0. 0. 0. 0. 0. 0. 0. 0. 0. 0. 0. 0. 0. 0. 0. 0. 0. 0. 0.\n",
      " 0. 0. 0. 0. 0. 0. 0. 0. 0. 0. 0. 0. 0. 0. 0. 0. 0. 0. 0. 0. 0. 0. 0. 0.\n",
      " 0. 0. 0. 0. 0. 0. 0. 0. 0. 0. 0. 0. 0. 0. 0. 0. 0. 0. 0. 0. 0. 0. 0. 0.\n",
      " 0. 0. 0. 0. 0. 0. 0. 0. 0. 0. 0. 0. 0. 0. 0. 0. 0. 0. 0. 0. 0. 0. 0. 0.\n",
      " 0. 0. 0. 0. 0. 0. 0. 0. 0. 0. 0. 0. 0. 0. 0. 0. 0. 0. 0. 0. 0. 0. 0. 0.\n",
      " 0. 0. 0. 0. 0. 0. 0. 0. 0. 0. 0. 0. 0. 0. 0. 0. 0. 0. 0. 0. 0. 0. 0. 0.\n",
      " 0. 0. 0. 0. 0. 0. 0. 0. 0. 0. 0. 0. 0. 0. 0. 0. 0. 0. 0. 0. 0. 0. 0. 0.\n",
      " 0. 0. 0. 0. 0. 0. 0. 0. 0. 0. 0. 0. 0. 0. 0. 0. 0. 0. 0. 0. 0. 0. 0. 0.\n",
      " 0. 0. 0. 0. 0. 0. 0. 0. 0. 0. 0. 0.]\n"
     ]
    }
   ],
   "source": [
    "# to access all of the parameters of a layer use its get_weights() method and set_weights() method\n",
    "#weights, biases = hidden1.get_weights\n",
    "for layers in model.layers:\n",
    "    if layers.name != 'dense':\n",
    "        continue\n",
    "    weights, biases = layers.get_weights()\n",
    "    print(f\" weights: {weights}\")\n",
    "    print(f\" and biases: {biases}\")"
   ]
  },
  {
   "cell_type": "code",
   "execution_count": 13,
   "id": "bacc3c57",
   "metadata": {},
   "outputs": [
    {
     "name": "stdout",
     "output_type": "stream",
     "text": [
      "(784, 300)\n",
      "(300,)\n"
     ]
    }
   ],
   "source": [
    "print(weights.shape)\n",
    "print(biases.shape)"
   ]
  },
  {
   "cell_type": "markdown",
   "id": "58dd3637",
   "metadata": {},
   "source": [
    "Once the mdoel is created, you must call its compile() method to specify its loss function"
   ]
  },
  {
   "cell_type": "code",
   "execution_count": 14,
   "id": "63316543",
   "metadata": {},
   "outputs": [],
   "source": [
    "model.compile(loss = \"sparse_categorical_crossentropy\",\n",
    "             optimizer = \"sgd\",\n",
    "             metrics=[\"accuracy\"])"
   ]
  },
  {
   "cell_type": "markdown",
   "id": "3d2aff9f",
   "metadata": {},
   "source": [
    "## Training and evaluating the model"
   ]
  },
  {
   "cell_type": "code",
   "execution_count": 15,
   "id": "2b976b36",
   "metadata": {
    "collapsed": true
   },
   "outputs": [
    {
     "name": "stdout",
     "output_type": "stream",
     "text": [
      "Epoch 1/30\n",
      "1719/1719 [==============================] - 2s 798us/step - loss: 0.7117 - accuracy: 0.7662 - val_loss: 0.4985 - val_accuracy: 0.8326\n",
      "Epoch 2/30\n",
      "1719/1719 [==============================] - 1s 751us/step - loss: 0.4858 - accuracy: 0.8314 - val_loss: 0.4588 - val_accuracy: 0.8418\n",
      "Epoch 3/30\n",
      "1719/1719 [==============================] - 1s 753us/step - loss: 0.4404 - accuracy: 0.8459 - val_loss: 0.4079 - val_accuracy: 0.8636\n",
      "Epoch 4/30\n",
      "1719/1719 [==============================] - 1s 774us/step - loss: 0.4144 - accuracy: 0.8543 - val_loss: 0.3860 - val_accuracy: 0.8654\n",
      "Epoch 5/30\n",
      "1719/1719 [==============================] - 1s 756us/step - loss: 0.3915 - accuracy: 0.8623 - val_loss: 0.3938 - val_accuracy: 0.8650\n",
      "Epoch 6/30\n",
      "1719/1719 [==============================] - 1s 760us/step - loss: 0.3778 - accuracy: 0.8664 - val_loss: 0.3714 - val_accuracy: 0.8714\n",
      "Epoch 7/30\n",
      "1719/1719 [==============================] - 1s 753us/step - loss: 0.3655 - accuracy: 0.8714 - val_loss: 0.3704 - val_accuracy: 0.8722\n",
      "Epoch 8/30\n",
      "1719/1719 [==============================] - 1s 754us/step - loss: 0.3519 - accuracy: 0.8755 - val_loss: 0.3822 - val_accuracy: 0.8696\n",
      "Epoch 9/30\n",
      "1719/1719 [==============================] - 1s 760us/step - loss: 0.3417 - accuracy: 0.8790 - val_loss: 0.3569 - val_accuracy: 0.8774\n",
      "Epoch 10/30\n",
      "1719/1719 [==============================] - 1s 755us/step - loss: 0.3337 - accuracy: 0.8816 - val_loss: 0.3474 - val_accuracy: 0.8764\n",
      "Epoch 11/30\n",
      "1719/1719 [==============================] - 1s 761us/step - loss: 0.3242 - accuracy: 0.8837 - val_loss: 0.3315 - val_accuracy: 0.8828\n",
      "Epoch 12/30\n",
      "1719/1719 [==============================] - 1s 759us/step - loss: 0.3164 - accuracy: 0.8860 - val_loss: 0.3316 - val_accuracy: 0.8802\n",
      "Epoch 13/30\n",
      "1719/1719 [==============================] - 1s 762us/step - loss: 0.3087 - accuracy: 0.8882 - val_loss: 0.3310 - val_accuracy: 0.8820\n",
      "Epoch 14/30\n",
      "1719/1719 [==============================] - 1s 760us/step - loss: 0.3023 - accuracy: 0.8914 - val_loss: 0.3281 - val_accuracy: 0.8832\n",
      "Epoch 15/30\n",
      "1719/1719 [==============================] - 1s 752us/step - loss: 0.2949 - accuracy: 0.8940 - val_loss: 0.3204 - val_accuracy: 0.8842\n",
      "Epoch 16/30\n",
      "1719/1719 [==============================] - 1s 755us/step - loss: 0.2894 - accuracy: 0.8957 - val_loss: 0.3232 - val_accuracy: 0.8854\n",
      "Epoch 17/30\n",
      "1719/1719 [==============================] - 1s 759us/step - loss: 0.2830 - accuracy: 0.8983 - val_loss: 0.3143 - val_accuracy: 0.8846\n",
      "Epoch 18/30\n",
      "1719/1719 [==============================] - 1s 773us/step - loss: 0.2773 - accuracy: 0.9003 - val_loss: 0.3136 - val_accuracy: 0.8858\n",
      "Epoch 19/30\n",
      "1719/1719 [==============================] - 1s 743us/step - loss: 0.2728 - accuracy: 0.9017 - val_loss: 0.3320 - val_accuracy: 0.8778\n",
      "Epoch 20/30\n",
      "1719/1719 [==============================] - 1s 760us/step - loss: 0.2675 - accuracy: 0.9039 - val_loss: 0.3146 - val_accuracy: 0.8858\n",
      "Epoch 21/30\n",
      "1719/1719 [==============================] - 1s 745us/step - loss: 0.2624 - accuracy: 0.9053 - val_loss: 0.3032 - val_accuracy: 0.8906\n",
      "Epoch 22/30\n",
      "1719/1719 [==============================] - 1s 762us/step - loss: 0.2574 - accuracy: 0.9066 - val_loss: 0.3198 - val_accuracy: 0.8870\n",
      "Epoch 23/30\n",
      "1719/1719 [==============================] - 1s 761us/step - loss: 0.2534 - accuracy: 0.9078 - val_loss: 0.3009 - val_accuracy: 0.8926\n",
      "Epoch 24/30\n",
      "1719/1719 [==============================] - 1s 755us/step - loss: 0.2482 - accuracy: 0.9104 - val_loss: 0.2975 - val_accuracy: 0.8914\n",
      "Epoch 25/30\n",
      "1719/1719 [==============================] - 1s 750us/step - loss: 0.2440 - accuracy: 0.9122 - val_loss: 0.3184 - val_accuracy: 0.8862\n",
      "Epoch 26/30\n",
      "1719/1719 [==============================] - 1s 754us/step - loss: 0.2404 - accuracy: 0.9131 - val_loss: 0.3012 - val_accuracy: 0.8946\n",
      "Epoch 27/30\n",
      "1719/1719 [==============================] - 1s 777us/step - loss: 0.2360 - accuracy: 0.9160 - val_loss: 0.3200 - val_accuracy: 0.8816\n",
      "Epoch 28/30\n",
      "1719/1719 [==============================] - 1s 751us/step - loss: 0.2315 - accuracy: 0.9176 - val_loss: 0.2954 - val_accuracy: 0.8964\n",
      "Epoch 29/30\n",
      "1719/1719 [==============================] - 1s 745us/step - loss: 0.2281 - accuracy: 0.9184 - val_loss: 0.2988 - val_accuracy: 0.8918\n",
      "Epoch 30/30\n",
      "1719/1719 [==============================] - 1s 743us/step - loss: 0.2237 - accuracy: 0.9200 - val_loss: 0.3382 - val_accuracy: 0.8796\n"
     ]
    }
   ],
   "source": [
    "history = model.fit(X_train, y_train, epochs = 30,\n",
    "                   validation_data = (X_valid, y_valid))\n",
    "                   # or validation_split = 0.1)"
   ]
  },
  {
   "cell_type": "code",
   "execution_count": 17,
   "id": "ee52c4a8",
   "metadata": {},
   "outputs": [
    {
     "data": {
      "image/png": "[encoded data removed]",
      "text/plain": [
       "<Figure size 576x360 with 1 Axes>"
      ]
     },
     "metadata": {
      "needs_background": "light"
     },
     "output_type": "display_data"
    }
   ],
   "source": [
    "import pandas as pd\n",
    "import matplotlib.pyplot as plt\n",
    "\n",
    "pd.DataFrame(history.history).plot(figsize=(8,5))\n",
    "plt.grid(True)\n",
    "plt.gca().set_ylim(0,1)  # sets the vertical range to [0-1]\n",
    "plt.show()"
   ]
  },
  {
   "cell_type": "markdown",
   "id": "466c9bdb",
   "metadata": {},
   "source": [
    "You can call the fit() method again as it doesn't start from scratch, it restarts training right where it left off"
   ]
  },
  {
   "cell_type": "markdown",
   "id": "85eeed39",
   "metadata": {},
   "source": [
    "## Evaluating on the test set"
   ]
  },
  {
   "cell_type": "code",
   "execution_count": 18,
   "id": "d56b1c05",
   "metadata": {},
   "outputs": [
    {
     "name": "stdout",
     "output_type": "stream",
     "text": [
      "313/313 [==============================] - 0s 461us/step - loss: 0.3723 - accuracy: 0.8685\n"
     ]
    },
    {
     "data": {
      "text/plain": [
       "[0.3722694516181946, 0.8684999942779541]"
      ]
     },
     "execution_count": 18,
     "metadata": {},
     "output_type": "execute_result"
    }
   ],
   "source": [
    "model.evaluate(X_test, y_test)"
   ]
  },
  {
   "cell_type": "markdown",
   "id": "8124810f",
   "metadata": {},
   "source": [
    "## Making Predictions"
   ]
  },
  {
   "cell_type": "code",
   "execution_count": 19,
   "id": "94e3287f",
   "metadata": {},
   "outputs": [
    {
     "name": "stdout",
     "output_type": "stream",
     "text": [
      "1/1 [==============================] - 0s 39ms/step\n"
     ]
    },
    {
     "data": {
      "text/plain": [
       "array([[0.  , 0.  , 0.  , 0.  , 0.  , 0.  , 0.  , 0.  , 0.  , 1.  ],\n",
       "       [0.  , 0.  , 0.97, 0.  , 0.03, 0.  , 0.  , 0.  , 0.  , 0.  ],\n",
       "       [0.  , 1.  , 0.  , 0.  , 0.  , 0.  , 0.  , 0.  , 0.  , 0.  ]],\n",
       "      dtype=float32)"
      ]
     },
     "execution_count": 19,
     "metadata": {},
     "output_type": "execute_result"
    }
   ],
   "source": [
    "X_new = X_test[:3]\n",
    "y_proba = model.predict(X_new)\n",
    "y_proba.round(2)"
   ]
  },
  {
   "cell_type": "code",
   "execution_count": 23,
   "id": "f49c60b5",
   "metadata": {},
   "outputs": [],
   "source": [
    "import numpy as np"
   ]
  },
  {
   "cell_type": "code",
   "execution_count": 26,
   "id": "a7d9f357",
   "metadata": {},
   "outputs": [
    {
     "name": "stdout",
     "output_type": "stream",
     "text": [
      "1/1 [==============================] - 0s 9ms/step\n"
     ]
    },
    {
     "data": {
      "text/plain": [
       "array([9, 2, 1])"
      ]
     },
     "execution_count": 26,
     "metadata": {},
     "output_type": "execute_result"
    }
   ],
   "source": [
    "# To just show the class predicted and not all the corresponding probabilities:\n",
    "y_pred = np.argmax(model.predict(X_new), axis = 1)\n",
    "y_pred"
   ]
  },
  {
   "cell_type": "code",
   "execution_count": 27,
   "id": "fa47c150",
   "metadata": {},
   "outputs": [
    {
     "data": {
      "text/plain": [
       "array(['Ankle Boot', 'Pullover', 'Trouser'], dtype='<U11')"
      ]
     },
     "execution_count": 27,
     "metadata": {},
     "output_type": "execute_result"
    }
   ],
   "source": [
    "np.array(class_names)[y_pred]"
   ]
  }
 ],
 "metadata": {
  "kernelspec": {
   "display_name": "Python 3 (ipykernel)",
   "language": "python",
   "name": "python3"
  },
  "language_info": {
   "codemirror_mode": {
    "name": "ipython",
    "version": 3
   },
   "file_extension": ".py",
   "mimetype": "text/x-python",
   "name": "python",
   "nbconvert_exporter": "python",
   "pygments_lexer": "ipython3",
   "version": "3.9.7"
  }
 },
 "nbformat": 4,
 "nbformat_minor": 5
}
